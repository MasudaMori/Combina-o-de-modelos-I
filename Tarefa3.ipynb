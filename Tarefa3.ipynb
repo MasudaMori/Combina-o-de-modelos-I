{
 "cells": [
  {
   "cell_type": "markdown",
   "id": "0026e95e-425f-4b49-9d54-095d27b253ed",
   "metadata": {},
   "source": [
    "\n",
    "Os principais hiperparâmetros do Random Forest (RF) incluem:\n",
    "\n",
    "n_estimators:\n",
    "\n",
    "Descrição: Número de árvores na floresta.\n",
    "Função: Aumentar o número de árvores geralmente melhora a performance do modelo, pois a média das previsões de várias árvores tende a ser mais robusta e menos suscetível ao overfitting.\n",
    "max_features:\n",
    "\n",
    "Descrição: Número máximo de features a serem consideradas ao buscar a melhor divisão.\n",
    "Função: Controla a aleatoriedade do modelo. Um valor menor pode aumentar a diversidade entre as árvores, ajudando a evitar overfitting, enquanto um valor maior pode melhorar a performance em datasets mais complexos.\n",
    "max_depth:\n",
    "\n",
    "Descrição: Profundidade máxima de cada árvore.\n",
    "Função: Limitar a profundidade das árvores pode evitar o overfitting, já que árvores muito profundas podem se ajustar demais ao ruído nos dados de treinamento.\n",
    "min_samples_split:\n",
    "\n",
    "Descrição: Número mínimo de amostras necessárias para dividir um nó.\n",
    "Função: Aumentar esse valor pode resultar em árvores mais simples e menos propensas ao overfitting.\n",
    "min_samples_leaf:\n",
    "\n",
    "Descrição: Número mínimo de amostras que devem estar presentes em um nó folha.\n",
    "Função: Este hiperparâmetro ajuda a controlar o tamanho da árvore e pode ser usado para garantir que cada folha tenha um número mínimo de amostras.\n",
    "bootstrap:\n",
    "\n",
    "Descrição: Indica se as amostras devem ser extraídas com ou sem reposição.\n",
    "Função: O uso de amostras com reposição (bootstrap) é uma característica fundamental do Random Forest, permitindo que cada árvore tenha um conjunto de dados ligeiramente diferente, aumentando a diversidade do modelo.\n",
    "oob_score:\n",
    "\n",
    "Descrição: Se verdadeiro, calcula a pontuação de out-of-bag (OOB).\n",
    "Função: O OOB score fornece uma estimativa de performance do modelo sem necessidade de validação cruzada, usando as amostras que não foram escolhidas para treinar cada árvore.\n",
    "class_weight:\n",
    "\n",
    "Descrição: Pesos associados às classes.\n",
    "Função: Este parâmetro é útil para lidar com classes desbalanceadas, atribuindo mais peso às classes menos frequentes, ajudando o modelo a aprender melhor sobre essas classes.\n",
    "Esses hiperparâmetros podem ser ajustados para otimizar o desempenho do modelo em relação ao problema específico em questão. A escolha dos valores apropriados muitas vezes requer experimentação e validação, como a busca em grade (Grid Search) ou a busca aleatória (Random Search)."
   ]
  },
  {
   "cell_type": "code",
   "execution_count": 2,
   "id": "ce6899e4-57d5-4b94-8d5a-a94836050dc9",
   "metadata": {},
   "outputs": [],
   "source": [
    "from sklearn.ensemble import RandomForestClassifier\n",
    "\n",
    "rfc = RandomForestClassifier(n_estimators=100, max_depth=5, criterion=\"gini\")"
   ]
  }
 ],
 "metadata": {
  "kernelspec": {
   "display_name": "Python 3 (ipykernel)",
   "language": "python",
   "name": "python3"
  },
  "language_info": {
   "codemirror_mode": {
    "name": "ipython",
    "version": 3
   },
   "file_extension": ".py",
   "mimetype": "text/x-python",
   "name": "python",
   "nbconvert_exporter": "python",
   "pygments_lexer": "ipython3",
   "version": "3.12.4"
  }
 },
 "nbformat": 4,
 "nbformat_minor": 5
}
